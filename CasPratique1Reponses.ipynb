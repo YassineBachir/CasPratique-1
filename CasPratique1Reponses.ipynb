{
 "cells": [
  {
   "cell_type": "markdown",
   "id": "5a29fcc3",
   "metadata": {},
   "source": [
    "# YASSINE MOUHAMED BACHIR NDIAYE"
   ]
  },
  {
   "cell_type": "markdown",
   "id": "e87af1a5",
   "metadata": {},
   "source": [
    "# ROKHAYE FALL"
   ]
  },
  {
   "cell_type": "markdown",
   "id": "9fb99676",
   "metadata": {},
   "source": [
    "# NDEYE NDIAYE"
   ]
  },
  {
   "cell_type": "code",
   "execution_count": 1,
   "id": "9363bb8e",
   "metadata": {},
   "outputs": [],
   "source": [
    "import numpy as np\n",
    "import pandas as pd\n",
    "import matplotlib.pyplot as plt"
   ]
  },
  {
   "cell_type": "markdown",
   "id": "5a3e653b",
   "metadata": {},
   "source": [
    "# Question1&2"
   ]
  },
  {
   "cell_type": "code",
   "execution_count": 2,
   "id": "ff4dd1f5",
   "metadata": {},
   "outputs": [
    {
     "name": "stdout",
     "output_type": "stream",
     "text": [
      "Les noms des feuilles sont  ['Pluvio_fatick', 'Pluvio_Toubacouta', 'Pluvio_Foundioune']\n"
     ]
    },
    {
     "data": {
      "text/html": [
       "<div>\n",
       "<style scoped>\n",
       "    .dataframe tbody tr th:only-of-type {\n",
       "        vertical-align: middle;\n",
       "    }\n",
       "\n",
       "    .dataframe tbody tr th {\n",
       "        vertical-align: top;\n",
       "    }\n",
       "\n",
       "    .dataframe thead th {\n",
       "        text-align: right;\n",
       "    }\n",
       "</style>\n",
       "<table border=\"1\" class=\"dataframe\">\n",
       "  <thead>\n",
       "    <tr style=\"text-align: right;\">\n",
       "      <th></th>\n",
       "      <th>Stations</th>\n",
       "      <th>Annees</th>\n",
       "      <th>Janv</th>\n",
       "      <th>Fevr</th>\n",
       "      <th>Mars</th>\n",
       "      <th>Avr</th>\n",
       "      <th>Mai</th>\n",
       "      <th>Juin</th>\n",
       "      <th>Juil</th>\n",
       "      <th>Aout</th>\n",
       "      <th>Sept</th>\n",
       "      <th>Oct</th>\n",
       "      <th>Nov</th>\n",
       "      <th>Dec</th>\n",
       "    </tr>\n",
       "  </thead>\n",
       "  <tbody>\n",
       "    <tr>\n",
       "      <th>0</th>\n",
       "      <td>Foundiougne</td>\n",
       "      <td>1950</td>\n",
       "      <td>0.0</td>\n",
       "      <td>0.0</td>\n",
       "      <td>0.0</td>\n",
       "      <td>0.0</td>\n",
       "      <td>5.2</td>\n",
       "      <td>67.1</td>\n",
       "      <td>143.2</td>\n",
       "      <td>504.8</td>\n",
       "      <td>308.9</td>\n",
       "      <td>157.2</td>\n",
       "      <td>7.2</td>\n",
       "      <td>0.0</td>\n",
       "    </tr>\n",
       "    <tr>\n",
       "      <th>1</th>\n",
       "      <td>Foundiougne</td>\n",
       "      <td>1951</td>\n",
       "      <td>0.0</td>\n",
       "      <td>0.0</td>\n",
       "      <td>0.0</td>\n",
       "      <td>0.0</td>\n",
       "      <td>16.8</td>\n",
       "      <td>12.6</td>\n",
       "      <td>131.2</td>\n",
       "      <td>310.4</td>\n",
       "      <td>198.5</td>\n",
       "      <td>199.9</td>\n",
       "      <td>8.4</td>\n",
       "      <td>0.0</td>\n",
       "    </tr>\n",
       "    <tr>\n",
       "      <th>2</th>\n",
       "      <td>Foundiougne</td>\n",
       "      <td>1952</td>\n",
       "      <td>0.0</td>\n",
       "      <td>0.0</td>\n",
       "      <td>0.0</td>\n",
       "      <td>1.3</td>\n",
       "      <td>7.1</td>\n",
       "      <td>47.0</td>\n",
       "      <td>244.9</td>\n",
       "      <td>297.5</td>\n",
       "      <td>242.7</td>\n",
       "      <td>79.0</td>\n",
       "      <td>0.0</td>\n",
       "      <td>0.0</td>\n",
       "    </tr>\n",
       "    <tr>\n",
       "      <th>3</th>\n",
       "      <td>Foundiougne</td>\n",
       "      <td>1953</td>\n",
       "      <td>0.0</td>\n",
       "      <td>0.0</td>\n",
       "      <td>0.0</td>\n",
       "      <td>0.0</td>\n",
       "      <td>0.0</td>\n",
       "      <td>5.2</td>\n",
       "      <td>267.5</td>\n",
       "      <td>311.5</td>\n",
       "      <td>398.0</td>\n",
       "      <td>71.1</td>\n",
       "      <td>0.0</td>\n",
       "      <td>0.0</td>\n",
       "    </tr>\n",
       "    <tr>\n",
       "      <th>4</th>\n",
       "      <td>Foundiougne</td>\n",
       "      <td>1954</td>\n",
       "      <td>0.0</td>\n",
       "      <td>0.0</td>\n",
       "      <td>0.0</td>\n",
       "      <td>0.0</td>\n",
       "      <td>0.0</td>\n",
       "      <td>85.0</td>\n",
       "      <td>205.5</td>\n",
       "      <td>482.8</td>\n",
       "      <td>97.7</td>\n",
       "      <td>47.2</td>\n",
       "      <td>8.2</td>\n",
       "      <td>0.0</td>\n",
       "    </tr>\n",
       "    <tr>\n",
       "      <th>...</th>\n",
       "      <td>...</td>\n",
       "      <td>...</td>\n",
       "      <td>...</td>\n",
       "      <td>...</td>\n",
       "      <td>...</td>\n",
       "      <td>...</td>\n",
       "      <td>...</td>\n",
       "      <td>...</td>\n",
       "      <td>...</td>\n",
       "      <td>...</td>\n",
       "      <td>...</td>\n",
       "      <td>...</td>\n",
       "      <td>...</td>\n",
       "      <td>...</td>\n",
       "    </tr>\n",
       "    <tr>\n",
       "      <th>63</th>\n",
       "      <td>Foundiougne</td>\n",
       "      <td>2013</td>\n",
       "      <td>0.0</td>\n",
       "      <td>0.0</td>\n",
       "      <td>0.0</td>\n",
       "      <td>0.0</td>\n",
       "      <td>0.0</td>\n",
       "      <td>46.5</td>\n",
       "      <td>35.3</td>\n",
       "      <td>392.0</td>\n",
       "      <td>148.2</td>\n",
       "      <td>32.0</td>\n",
       "      <td>0.0</td>\n",
       "      <td>0.0</td>\n",
       "    </tr>\n",
       "    <tr>\n",
       "      <th>64</th>\n",
       "      <td>Foundiougne</td>\n",
       "      <td>2014</td>\n",
       "      <td>0.0</td>\n",
       "      <td>0.0</td>\n",
       "      <td>0.0</td>\n",
       "      <td>0.0</td>\n",
       "      <td>0.0</td>\n",
       "      <td>16.0</td>\n",
       "      <td>48.8</td>\n",
       "      <td>127.0</td>\n",
       "      <td>247.1</td>\n",
       "      <td>19.3</td>\n",
       "      <td>0.0</td>\n",
       "      <td>0.0</td>\n",
       "    </tr>\n",
       "    <tr>\n",
       "      <th>65</th>\n",
       "      <td>Foundiougne</td>\n",
       "      <td>2015</td>\n",
       "      <td>0.0</td>\n",
       "      <td>0.0</td>\n",
       "      <td>0.0</td>\n",
       "      <td>0.0</td>\n",
       "      <td>0.0</td>\n",
       "      <td>0.0</td>\n",
       "      <td>45.3</td>\n",
       "      <td>197.4</td>\n",
       "      <td>230.7</td>\n",
       "      <td>100.4</td>\n",
       "      <td>0.0</td>\n",
       "      <td>0.0</td>\n",
       "    </tr>\n",
       "    <tr>\n",
       "      <th>66</th>\n",
       "      <td>Foundiougne</td>\n",
       "      <td>2016</td>\n",
       "      <td>0.0</td>\n",
       "      <td>0.0</td>\n",
       "      <td>0.0</td>\n",
       "      <td>0.0</td>\n",
       "      <td>0.0</td>\n",
       "      <td>5.2</td>\n",
       "      <td>165.7</td>\n",
       "      <td>213.8</td>\n",
       "      <td>134.1</td>\n",
       "      <td>35.0</td>\n",
       "      <td>0.0</td>\n",
       "      <td>0.0</td>\n",
       "    </tr>\n",
       "    <tr>\n",
       "      <th>67</th>\n",
       "      <td>Foundiougne</td>\n",
       "      <td>2017</td>\n",
       "      <td>0.0</td>\n",
       "      <td>0.0</td>\n",
       "      <td>0.0</td>\n",
       "      <td>0.0</td>\n",
       "      <td>0.0</td>\n",
       "      <td>19.5</td>\n",
       "      <td>236.0</td>\n",
       "      <td>263.2</td>\n",
       "      <td>77.8</td>\n",
       "      <td>0.0</td>\n",
       "      <td>0.0</td>\n",
       "      <td>0.0</td>\n",
       "    </tr>\n",
       "  </tbody>\n",
       "</table>\n",
       "<p>68 rows × 14 columns</p>\n",
       "</div>"
      ],
      "text/plain": [
       "       Stations  Annees  Janv  Fevr  Mars  Avr   Mai  Juin   Juil   Aout  \\\n",
       "0   Foundiougne    1950   0.0   0.0   0.0  0.0   5.2  67.1  143.2  504.8   \n",
       "1   Foundiougne    1951   0.0   0.0   0.0  0.0  16.8  12.6  131.2  310.4   \n",
       "2   Foundiougne    1952   0.0   0.0   0.0  1.3   7.1  47.0  244.9  297.5   \n",
       "3   Foundiougne    1953   0.0   0.0   0.0  0.0   0.0   5.2  267.5  311.5   \n",
       "4   Foundiougne    1954   0.0   0.0   0.0  0.0   0.0  85.0  205.5  482.8   \n",
       "..          ...     ...   ...   ...   ...  ...   ...   ...    ...    ...   \n",
       "63  Foundiougne    2013   0.0   0.0   0.0  0.0   0.0  46.5   35.3  392.0   \n",
       "64  Foundiougne    2014   0.0   0.0   0.0  0.0   0.0  16.0   48.8  127.0   \n",
       "65  Foundiougne    2015   0.0   0.0   0.0  0.0   0.0   0.0   45.3  197.4   \n",
       "66  Foundiougne    2016   0.0   0.0   0.0  0.0   0.0   5.2  165.7  213.8   \n",
       "67  Foundiougne    2017   0.0   0.0   0.0  0.0   0.0  19.5  236.0  263.2   \n",
       "\n",
       "     Sept    Oct  Nov  Dec  \n",
       "0   308.9  157.2  7.2  0.0  \n",
       "1   198.5  199.9  8.4  0.0  \n",
       "2   242.7   79.0  0.0  0.0  \n",
       "3   398.0   71.1  0.0  0.0  \n",
       "4    97.7   47.2  8.2  0.0  \n",
       "..    ...    ...  ...  ...  \n",
       "63  148.2   32.0  0.0  0.0  \n",
       "64  247.1   19.3  0.0  0.0  \n",
       "65  230.7  100.4  0.0  0.0  \n",
       "66  134.1   35.0  0.0  0.0  \n",
       "67   77.8    0.0  0.0  0.0  \n",
       "\n",
       "[68 rows x 14 columns]"
      ]
     },
     "execution_count": 2,
     "metadata": {},
     "output_type": "execute_result"
    }
   ],
   "source": [
    "\n",
    "pluvio=pd.ExcelFile(\"pluvio_senegal.xlsx\", engine=\"openpyxl\")\n",
    "\n",
    "print(\"Les noms des feuilles sont \", pluvio.sheet_names)\n",
    "\n",
    "#Chargement du fichier DataFrame\n",
    "Feuille=pluvio.parse(\"Pluvio_Foundioune\")\n",
    "Feuille\n",
    "\n"
   ]
  },
  {
   "cell_type": "code",
   "execution_count": 3,
   "id": "2691086c",
   "metadata": {},
   "outputs": [],
   "source": [
    "#Courbe\n",
    "\n",
    "#Feuille.Annees"
   ]
  },
  {
   "cell_type": "markdown",
   "id": "1a5fec46",
   "metadata": {},
   "source": [
    "# Question 3"
   ]
  },
  {
   "cell_type": "code",
   "execution_count": 4,
   "id": "360e5e34",
   "metadata": {},
   "outputs": [
    {
     "data": {
      "text/plain": [
       "<function matplotlib.pyplot.show(close=None, block=None)>"
      ]
     },
     "execution_count": 4,
     "metadata": {},
     "output_type": "execute_result"
    },
    {
     "data": {
      "image/png": "[encoded data removed]",
      "text/plain": [
       "<Figure size 864x720 with 1 Axes>"
      ]
     },
     "metadata": {
      "needs_background": "light"
     },
     "output_type": "display_data"
    }
   ],
   "source": [
    "#Courbe \n",
    "\n",
    "fig1, axe1= plt.subplots(figsize=(12,10))\n",
    "x=Feuille.Annees\n",
    "y=Feuille.Janv\n",
    "\n",
    "plt.plot(x,y)\n",
    "plt.grid()\n",
    "plt.title(\"PLuviometrie_de_janvier\")\n",
    "plt.show"
   ]
  },
  {
   "cell_type": "markdown",
   "id": "ded44797",
   "metadata": {},
   "source": [
    "# Question 4: "
   ]
  },
  {
   "cell_type": "code",
   "execution_count": 5,
   "id": "fcd8d772",
   "metadata": {},
   "outputs": [
    {
     "data": {
      "text/plain": [
       "<function matplotlib.pyplot.show(close=None, block=None)>"
      ]
     },
     "execution_count": 5,
     "metadata": {},
     "output_type": "execute_result"
    },
    {
     "data": {
      "image/png": "[encoded data removed]",
      "text/plain": [
       "<Figure size 864x720 with 1 Axes>"
      ]
     },
     "metadata": {
      "needs_background": "light"
     },
     "output_type": "display_data"
    }
   ],
   "source": [
    "\n",
    "#Pluvio 2000-2010\n",
    "fig2, axe2= plt.subplots(figsize=(12,10))\n",
    "x0=Feuille.Annees[50:61]\n",
    "y0=Feuille.Janv[50:61]\n",
    "\n",
    "plt.plot(x0,y0)\n",
    "plt.grid()\n",
    "plt.title(\"PLuviometrie 2000_2010\")\n",
    "plt.show"
   ]
  },
  {
   "cell_type": "markdown",
   "id": "96da6198",
   "metadata": {},
   "source": [
    "# Question 5:"
   ]
  },
  {
   "cell_type": "code",
   "execution_count": 6,
   "id": "f19d3306",
   "metadata": {},
   "outputs": [
    {
     "name": "stdout",
     "output_type": "stream",
     "text": [
      "2002\n"
     ]
    }
   ],
   "source": [
    "\n",
    "n=np.where(Feuille.Janv.values==Feuille.Janv.max())\n",
    "for i in range(len(n[0])):\n",
    "    AN=Feuille.Annees[n[0][i]]\n",
    "    print(AN)\n"
   ]
  },
  {
   "cell_type": "markdown",
   "id": "fa279e22",
   "metadata": {},
   "source": [
    "# Question6:"
   ]
  },
  {
   "cell_type": "code",
   "execution_count": 7,
   "id": "bb322502",
   "metadata": {},
   "outputs": [
    {
     "data": {
      "text/html": [
       "<div>\n",
       "<style scoped>\n",
       "    .dataframe tbody tr th:only-of-type {\n",
       "        vertical-align: middle;\n",
       "    }\n",
       "\n",
       "    .dataframe tbody tr th {\n",
       "        vertical-align: top;\n",
       "    }\n",
       "\n",
       "    .dataframe thead th {\n",
       "        text-align: right;\n",
       "    }\n",
       "</style>\n",
       "<table border=\"1\" class=\"dataframe\">\n",
       "  <thead>\n",
       "    <tr style=\"text-align: right;\">\n",
       "      <th></th>\n",
       "      <th>Stations</th>\n",
       "      <th>Annees</th>\n",
       "      <th>Janv</th>\n",
       "      <th>Fevr</th>\n",
       "      <th>Mars</th>\n",
       "      <th>Avr</th>\n",
       "      <th>Mai</th>\n",
       "      <th>Juin</th>\n",
       "      <th>Juil</th>\n",
       "      <th>Aout</th>\n",
       "      <th>Sept</th>\n",
       "      <th>Oct</th>\n",
       "      <th>Nov</th>\n",
       "      <th>Dec</th>\n",
       "    </tr>\n",
       "  </thead>\n",
       "  <tbody>\n",
       "    <tr>\n",
       "      <th>0</th>\n",
       "      <td>Foundiougne</td>\n",
       "      <td>1950</td>\n",
       "      <td>0.0</td>\n",
       "      <td>0.0</td>\n",
       "      <td>0.0</td>\n",
       "      <td>0.0</td>\n",
       "      <td>5.2</td>\n",
       "      <td>67.1</td>\n",
       "      <td>143.2</td>\n",
       "      <td>504.8</td>\n",
       "      <td>308.9</td>\n",
       "      <td>157.2</td>\n",
       "      <td>7.2</td>\n",
       "      <td>0.0</td>\n",
       "    </tr>\n",
       "    <tr>\n",
       "      <th>1</th>\n",
       "      <td>Foundiougne</td>\n",
       "      <td>1951</td>\n",
       "      <td>0.0</td>\n",
       "      <td>0.0</td>\n",
       "      <td>0.0</td>\n",
       "      <td>0.0</td>\n",
       "      <td>16.8</td>\n",
       "      <td>12.6</td>\n",
       "      <td>131.2</td>\n",
       "      <td>310.4</td>\n",
       "      <td>198.5</td>\n",
       "      <td>199.9</td>\n",
       "      <td>8.4</td>\n",
       "      <td>0.0</td>\n",
       "    </tr>\n",
       "    <tr>\n",
       "      <th>2</th>\n",
       "      <td>Foundiougne</td>\n",
       "      <td>1952</td>\n",
       "      <td>0.0</td>\n",
       "      <td>0.0</td>\n",
       "      <td>0.0</td>\n",
       "      <td>1.3</td>\n",
       "      <td>7.1</td>\n",
       "      <td>47.0</td>\n",
       "      <td>244.9</td>\n",
       "      <td>297.5</td>\n",
       "      <td>242.7</td>\n",
       "      <td>79.0</td>\n",
       "      <td>0.0</td>\n",
       "      <td>0.0</td>\n",
       "    </tr>\n",
       "    <tr>\n",
       "      <th>3</th>\n",
       "      <td>Foundiougne</td>\n",
       "      <td>1953</td>\n",
       "      <td>0.0</td>\n",
       "      <td>0.0</td>\n",
       "      <td>0.0</td>\n",
       "      <td>0.0</td>\n",
       "      <td>0.0</td>\n",
       "      <td>5.2</td>\n",
       "      <td>267.5</td>\n",
       "      <td>311.5</td>\n",
       "      <td>398.0</td>\n",
       "      <td>71.1</td>\n",
       "      <td>0.0</td>\n",
       "      <td>0.0</td>\n",
       "    </tr>\n",
       "    <tr>\n",
       "      <th>4</th>\n",
       "      <td>Foundiougne</td>\n",
       "      <td>1954</td>\n",
       "      <td>0.0</td>\n",
       "      <td>0.0</td>\n",
       "      <td>0.0</td>\n",
       "      <td>0.0</td>\n",
       "      <td>0.0</td>\n",
       "      <td>85.0</td>\n",
       "      <td>205.5</td>\n",
       "      <td>482.8</td>\n",
       "      <td>97.7</td>\n",
       "      <td>47.2</td>\n",
       "      <td>8.2</td>\n",
       "      <td>0.0</td>\n",
       "    </tr>\n",
       "    <tr>\n",
       "      <th>...</th>\n",
       "      <td>...</td>\n",
       "      <td>...</td>\n",
       "      <td>...</td>\n",
       "      <td>...</td>\n",
       "      <td>...</td>\n",
       "      <td>...</td>\n",
       "      <td>...</td>\n",
       "      <td>...</td>\n",
       "      <td>...</td>\n",
       "      <td>...</td>\n",
       "      <td>...</td>\n",
       "      <td>...</td>\n",
       "      <td>...</td>\n",
       "      <td>...</td>\n",
       "    </tr>\n",
       "    <tr>\n",
       "      <th>63</th>\n",
       "      <td>Foundiougne</td>\n",
       "      <td>2013</td>\n",
       "      <td>0.0</td>\n",
       "      <td>0.0</td>\n",
       "      <td>0.0</td>\n",
       "      <td>0.0</td>\n",
       "      <td>0.0</td>\n",
       "      <td>46.5</td>\n",
       "      <td>35.3</td>\n",
       "      <td>392.0</td>\n",
       "      <td>148.2</td>\n",
       "      <td>32.0</td>\n",
       "      <td>0.0</td>\n",
       "      <td>0.0</td>\n",
       "    </tr>\n",
       "    <tr>\n",
       "      <th>64</th>\n",
       "      <td>Foundiougne</td>\n",
       "      <td>2014</td>\n",
       "      <td>0.0</td>\n",
       "      <td>0.0</td>\n",
       "      <td>0.0</td>\n",
       "      <td>0.0</td>\n",
       "      <td>0.0</td>\n",
       "      <td>16.0</td>\n",
       "      <td>48.8</td>\n",
       "      <td>127.0</td>\n",
       "      <td>247.1</td>\n",
       "      <td>19.3</td>\n",
       "      <td>0.0</td>\n",
       "      <td>0.0</td>\n",
       "    </tr>\n",
       "    <tr>\n",
       "      <th>65</th>\n",
       "      <td>Foundiougne</td>\n",
       "      <td>2015</td>\n",
       "      <td>0.0</td>\n",
       "      <td>0.0</td>\n",
       "      <td>0.0</td>\n",
       "      <td>0.0</td>\n",
       "      <td>0.0</td>\n",
       "      <td>0.0</td>\n",
       "      <td>45.3</td>\n",
       "      <td>197.4</td>\n",
       "      <td>230.7</td>\n",
       "      <td>100.4</td>\n",
       "      <td>0.0</td>\n",
       "      <td>0.0</td>\n",
       "    </tr>\n",
       "    <tr>\n",
       "      <th>66</th>\n",
       "      <td>Foundiougne</td>\n",
       "      <td>2016</td>\n",
       "      <td>0.0</td>\n",
       "      <td>0.0</td>\n",
       "      <td>0.0</td>\n",
       "      <td>0.0</td>\n",
       "      <td>0.0</td>\n",
       "      <td>5.2</td>\n",
       "      <td>165.7</td>\n",
       "      <td>213.8</td>\n",
       "      <td>134.1</td>\n",
       "      <td>35.0</td>\n",
       "      <td>0.0</td>\n",
       "      <td>0.0</td>\n",
       "    </tr>\n",
       "    <tr>\n",
       "      <th>67</th>\n",
       "      <td>Foundiougne</td>\n",
       "      <td>2017</td>\n",
       "      <td>0.0</td>\n",
       "      <td>0.0</td>\n",
       "      <td>0.0</td>\n",
       "      <td>0.0</td>\n",
       "      <td>0.0</td>\n",
       "      <td>19.5</td>\n",
       "      <td>236.0</td>\n",
       "      <td>263.2</td>\n",
       "      <td>77.8</td>\n",
       "      <td>0.0</td>\n",
       "      <td>0.0</td>\n",
       "      <td>0.0</td>\n",
       "    </tr>\n",
       "  </tbody>\n",
       "</table>\n",
       "<p>68 rows × 14 columns</p>\n",
       "</div>"
      ],
      "text/plain": [
       "       Stations  Annees  Janv  Fevr  Mars  Avr   Mai  Juin   Juil   Aout  \\\n",
       "0   Foundiougne    1950   0.0   0.0   0.0  0.0   5.2  67.1  143.2  504.8   \n",
       "1   Foundiougne    1951   0.0   0.0   0.0  0.0  16.8  12.6  131.2  310.4   \n",
       "2   Foundiougne    1952   0.0   0.0   0.0  1.3   7.1  47.0  244.9  297.5   \n",
       "3   Foundiougne    1953   0.0   0.0   0.0  0.0   0.0   5.2  267.5  311.5   \n",
       "4   Foundiougne    1954   0.0   0.0   0.0  0.0   0.0  85.0  205.5  482.8   \n",
       "..          ...     ...   ...   ...   ...  ...   ...   ...    ...    ...   \n",
       "63  Foundiougne    2013   0.0   0.0   0.0  0.0   0.0  46.5   35.3  392.0   \n",
       "64  Foundiougne    2014   0.0   0.0   0.0  0.0   0.0  16.0   48.8  127.0   \n",
       "65  Foundiougne    2015   0.0   0.0   0.0  0.0   0.0   0.0   45.3  197.4   \n",
       "66  Foundiougne    2016   0.0   0.0   0.0  0.0   0.0   5.2  165.7  213.8   \n",
       "67  Foundiougne    2017   0.0   0.0   0.0  0.0   0.0  19.5  236.0  263.2   \n",
       "\n",
       "     Sept    Oct  Nov  Dec  \n",
       "0   308.9  157.2  7.2  0.0  \n",
       "1   198.5  199.9  8.4  0.0  \n",
       "2   242.7   79.0  0.0  0.0  \n",
       "3   398.0   71.1  0.0  0.0  \n",
       "4    97.7   47.2  8.2  0.0  \n",
       "..    ...    ...  ...  ...  \n",
       "63  148.2   32.0  0.0  0.0  \n",
       "64  247.1   19.3  0.0  0.0  \n",
       "65  230.7  100.4  0.0  0.0  \n",
       "66  134.1   35.0  0.0  0.0  \n",
       "67   77.8    0.0  0.0  0.0  \n",
       "\n",
       "[68 rows x 14 columns]"
      ]
     },
     "execution_count": 7,
     "metadata": {},
     "output_type": "execute_result"
    }
   ],
   "source": [
    "\n",
    "E=Feuille.iloc[0:,]\n",
    "E"
   ]
  },
  {
   "cell_type": "code",
   "execution_count": 8,
   "id": "29fa23aa",
   "metadata": {
    "scrolled": false
   },
   "outputs": [],
   "source": [
    "L=Feuille[Feuille.columns[2:]].values\n",
    "\n",
    "F=Feuille.columns[2:]\n"
   ]
  },
  {
   "cell_type": "code",
   "execution_count": 9,
   "id": "391489fb",
   "metadata": {},
   "outputs": [
    {
     "data": {
      "text/plain": [
       "array([[0.000e+00, 0.000e+00, 0.000e+00, 0.000e+00, 5.200e+00, 6.710e+01,\n",
       "        1.432e+02, 5.048e+02, 3.089e+02, 1.572e+02, 7.200e+00, 0.000e+00],\n",
       "       [0.000e+00, 0.000e+00, 0.000e+00, 0.000e+00, 1.680e+01, 1.260e+01,\n",
       "        1.312e+02, 3.104e+02, 1.985e+02, 1.999e+02, 8.400e+00, 0.000e+00],\n",
       "       [0.000e+00, 0.000e+00, 0.000e+00, 1.300e+00, 7.100e+00, 4.700e+01,\n",
       "        2.449e+02, 2.975e+02, 2.427e+02, 7.900e+01, 0.000e+00, 0.000e+00],\n",
       "       [0.000e+00, 0.000e+00, 0.000e+00, 0.000e+00, 0.000e+00, 5.200e+00,\n",
       "        2.675e+02, 3.115e+02, 3.980e+02, 7.110e+01, 0.000e+00, 0.000e+00],\n",
       "       [0.000e+00, 0.000e+00, 0.000e+00, 0.000e+00, 0.000e+00, 8.500e+01,\n",
       "        2.055e+02, 4.828e+02, 9.770e+01, 4.720e+01, 8.200e+00, 0.000e+00],\n",
       "       [0.000e+00, 0.000e+00, 0.000e+00, 0.000e+00, 2.500e+00, 4.000e+01,\n",
       "        3.938e+02, 3.957e+02, 3.742e+02, 1.500e+00, 0.000e+00, 0.000e+00],\n",
       "       [0.000e+00, 0.000e+00, 0.000e+00, 0.000e+00, 0.000e+00, 8.520e+01,\n",
       "        1.673e+02, 2.208e+02, 2.075e+02, 8.400e+01, 0.000e+00, 8.500e+00],\n",
       "       [0.000e+00, 0.000e+00, 0.000e+00, 0.000e+00, 0.000e+00, 4.700e+01,\n",
       "        1.243e+02, 2.207e+02, 3.060e+02, 1.248e+02, 0.000e+00, 2.500e+00],\n",
       "       [0.000e+00, 0.000e+00, 0.000e+00, 0.000e+00, 0.000e+00, 7.700e+01,\n",
       "        1.577e+02, 4.752e+02, 2.420e+02, 5.980e+01, 0.000e+00, 0.000e+00],\n",
       "       [0.000e+00, 0.000e+00, 0.000e+00, 0.000e+00, 6.300e+00, 1.530e+01,\n",
       "        5.810e+01, 2.424e+02, 2.155e+02, 1.850e+01, 0.000e+00, 0.000e+00],\n",
       "       [0.000e+00, 0.000e+00, 0.000e+00, 0.000e+00, 0.000e+00, 5.570e+01,\n",
       "        2.083e+02, 2.370e+02, 1.521e+02, 7.700e+00, 0.000e+00, 0.000e+00],\n",
       "       [0.000e+00, 0.000e+00, 0.000e+00, 0.000e+00, 0.000e+00, 4.550e+01,\n",
       "        1.897e+02, 1.729e+02, 1.469e+02, 1.570e+01, 0.000e+00, 0.000e+00],\n",
       "       [0.000e+00, 8.000e-01, 0.000e+00, 0.000e+00, 0.000e+00, 6.970e+01,\n",
       "        4.210e+01, 5.211e+02, 8.290e+01, 7.820e+01, 4.200e+01, 0.000e+00],\n",
       "       [0.000e+00, 0.000e+00, 0.000e+00, 0.000e+00, 0.000e+00, 6.100e+00,\n",
       "        1.216e+02, 2.405e+02, 2.391e+02, 1.241e+02, 0.000e+00, 0.000e+00],\n",
       "       [3.400e+00, 0.000e+00, 0.000e+00, 0.000e+00, 0.000e+00, 3.890e+01,\n",
       "        1.375e+02, 3.948e+02, 2.501e+02, 4.540e+01, 0.000e+00, 0.000e+00],\n",
       "       [0.000e+00, 0.000e+00, 0.000e+00, 0.000e+00, 0.000e+00, 5.260e+01,\n",
       "        1.713e+02, 2.965e+02, 1.338e+02, 4.630e+01, 0.000e+00, 0.000e+00],\n",
       "       [0.000e+00, 0.000e+00, 0.000e+00, 0.000e+00, 0.000e+00, 8.610e+01,\n",
       "        6.370e+01, 3.502e+02, 3.496e+02, 1.551e+02, 0.000e+00, 0.000e+00],\n",
       "       [0.000e+00, 0.000e+00, 0.000e+00, 0.000e+00, 0.000e+00, 3.880e+01,\n",
       "        2.442e+02, 3.270e+02, 4.090e+02, 1.058e+02, 0.000e+00, 0.000e+00],\n",
       "       [0.000e+00, 1.560e+01, 0.000e+00, 0.000e+00, 0.000e+00, 3.420e+01,\n",
       "        1.385e+02, 7.560e+01, 1.537e+02, 4.590e+01, 0.000e+00, 0.000e+00],\n",
       "       [0.000e+00, 0.000e+00, 0.000e+00, 0.000e+00, 0.000e+00, 0.000e+00,\n",
       "        1.539e+02, 2.976e+02, 1.647e+02, 7.550e+01, 0.000e+00, 0.000e+00],\n",
       "       [0.000e+00, 0.000e+00, 0.000e+00, 0.000e+00, 0.000e+00, 1.930e+01,\n",
       "        9.400e+01, 3.532e+02, 9.210e+01, 1.000e+01, 0.000e+00, 0.000e+00],\n",
       "       [0.000e+00, 0.000e+00, 0.000e+00, 0.000e+00, 0.000e+00, 4.390e+01,\n",
       "        2.623e+02, 3.049e+02, 3.321e+02, 5.900e+00, 0.000e+00, 0.000e+00],\n",
       "       [2.000e+00, 0.000e+00, 0.000e+00, 0.000e+00, 0.000e+00, 5.700e+01,\n",
       "        2.120e+01, 1.938e+02, 1.274e+02, 1.410e+01, 0.000e+00, 0.000e+00],\n",
       "       [0.000e+00, 0.000e+00, 0.000e+00, 0.000e+00, 0.000e+00, 7.420e+01,\n",
       "        1.398e+02, 1.933e+02, 9.590e+01, 4.300e+01, 0.000e+00, 0.000e+00],\n",
       "       [0.000e+00, 0.000e+00, 0.000e+00, 0.000e+00, 3.000e-01, 2.200e+00,\n",
       "        8.050e+01, 3.338e+02, 2.077e+02, 1.020e+01, 0.000e+00, 0.000e+00],\n",
       "       [0.000e+00, 0.000e+00, 0.000e+00, 0.000e+00, 5.000e-01, 0.000e+00,\n",
       "        2.031e+02, 1.939e+02, 1.433e+02, 6.460e+01, 0.000e+00, 0.000e+00],\n",
       "       [0.000e+00, 0.000e+00, 0.000e+00, 4.000e-01, 6.400e+00, 1.950e+01,\n",
       "        1.073e+02, 1.328e+02, 2.078e+02, 5.180e+01, 1.000e+00, 1.500e+00],\n",
       "       [0.000e+00, 0.000e+00, 0.000e+00, 0.000e+00, 0.000e+00, 1.600e+01,\n",
       "        4.950e+01, 1.731e+02, 1.890e+02, 0.000e+00, 0.000e+00, 0.000e+00],\n",
       "       [0.000e+00, 0.000e+00, 0.000e+00, 0.000e+00, 0.000e+00, 2.350e+01,\n",
       "        1.327e+02, 2.825e+02, 7.850e+01, 3.500e+01, 3.650e+01, 2.000e+00],\n",
       "       [1.000e+01, 0.000e+00, 0.000e+00, 0.000e+00, 3.000e+00, 1.605e+02,\n",
       "        1.331e+02, 1.695e+02, 6.350e+01, 3.300e+01, 0.000e+00, 4.500e+00],\n",
       "       [0.000e+00, 0.000e+00, 0.000e+00, 0.000e+00, 0.000e+00, 6.300e+00,\n",
       "        3.180e+01, 1.457e+02, 2.794e+02, 1.560e+01, 0.000e+00, 0.000e+00],\n",
       "       [0.000e+00, 0.000e+00, 0.000e+00, 0.000e+00, 0.000e+00, 3.500e+01,\n",
       "        1.586e+02, 2.227e+02, 4.750e+01, 1.170e+01, 0.000e+00, 0.000e+00],\n",
       "       [0.000e+00, 0.000e+00, 0.000e+00, 0.000e+00, 0.000e+00, 2.700e+01,\n",
       "        1.558e+02, 2.697e+02, 9.400e+01, 2.890e+01, 0.000e+00, 0.000e+00],\n",
       "       [0.000e+00, 0.000e+00, 0.000e+00, 0.000e+00, 0.000e+00, 4.940e+01,\n",
       "        3.750e+01, 9.910e+01, 7.050e+01, 8.700e+00, 0.000e+00, 0.000e+00],\n",
       "       [0.000e+00, 0.000e+00, 0.000e+00, 0.000e+00, 0.000e+00, 1.670e+02,\n",
       "        9.240e+01, 1.295e+02, 2.430e+02, 1.150e+01, 0.000e+00, 0.000e+00],\n",
       "       [0.000e+00, 0.000e+00, 0.000e+00, 0.000e+00, 0.000e+00, 6.750e+01,\n",
       "        1.651e+02, 1.369e+02, 1.338e+02, 5.250e+01, 0.000e+00, 6.600e+00],\n",
       "       [0.000e+00, 0.000e+00, 0.000e+00, 0.000e+00, 0.000e+00, 7.000e+00,\n",
       "        5.470e+01, 9.660e+01, 3.305e+02, 5.050e+01, 0.000e+00, 0.000e+00],\n",
       "       [0.000e+00, 0.000e+00, 0.000e+00, 0.000e+00, 0.000e+00, 1.800e+00,\n",
       "        1.006e+02, 2.116e+02, 2.045e+02, 8.930e+01, 0.000e+00, 0.000e+00],\n",
       "       [0.000e+00, 0.000e+00, 0.000e+00, 0.000e+00, 1.500e+00, 2.520e+01,\n",
       "        2.020e+01, 2.917e+02, 2.825e+02, 1.450e+01, 0.000e+00, 0.000e+00],\n",
       "       [0.000e+00, 0.000e+00, 0.000e+00, 0.000e+00, 0.000e+00, 1.560e+02,\n",
       "        1.951e+02, 2.976e+02, 1.799e+02, 6.950e+01, 0.000e+00, 0.000e+00],\n",
       "       [0.000e+00, 0.000e+00, 0.000e+00, 0.000e+00, 0.000e+00, 2.300e+01,\n",
       "        7.190e+01, 1.858e+02, 1.627e+02, 3.370e+01, 0.000e+00, 0.000e+00],\n",
       "       [0.000e+00, 0.000e+00, 0.000e+00, 0.000e+00, 0.000e+00, 0.000e+00,\n",
       "        1.803e+02, 1.225e+02, 2.064e+02, 2.870e+01, 0.000e+00, 0.000e+00],\n",
       "       [0.000e+00, 0.000e+00, 0.000e+00, 0.000e+00, 1.020e+01, 2.390e+01,\n",
       "        1.599e+02, 1.138e+02, 1.426e+02, 3.300e+01, 0.000e+00, 0.000e+00],\n",
       "       [0.000e+00, 0.000e+00, 0.000e+00, 0.000e+00, 0.000e+00, 0.000e+00,\n",
       "        1.645e+02, 2.522e+02, 1.701e+02, 1.670e+01, 5.000e-01, 0.000e+00],\n",
       "       [0.000e+00, 0.000e+00, 0.000e+00, 0.000e+00, 0.000e+00, 3.100e+01,\n",
       "        1.088e+02, 2.899e+02, 1.701e+02, 2.180e+01, 0.000e+00, 2.000e-01],\n",
       "       [0.000e+00, 0.000e+00, 0.000e+00, 0.000e+00, 0.000e+00, 8.210e+01,\n",
       "        1.603e+02, 3.787e+02, 1.698e+02, 2.850e+01, 0.000e+00, 1.650e+01],\n",
       "       [0.000e+00, 0.000e+00, 0.000e+00, 0.000e+00, 0.000e+00, 1.010e+01,\n",
       "        1.675e+02, 1.611e+02, 1.759e+02, 1.520e+02, 0.000e+00, 0.000e+00],\n",
       "       [0.000e+00, 0.000e+00, 0.000e+00, 0.000e+00, 5.000e-01, 1.211e+02,\n",
       "        4.190e+01, 2.045e+02, 2.019e+02, 2.000e+00, 0.000e+00, 0.000e+00],\n",
       "       [0.000e+00, 0.000e+00, 0.000e+00, 0.000e+00, 0.000e+00, 0.000e+00,\n",
       "        3.690e+01, 1.858e+02, 1.827e+02, 2.400e+01, 0.000e+00, 0.000e+00],\n",
       "       [0.000e+00, 0.000e+00, 0.000e+00, 0.000e+00, 0.000e+00, 6.770e+01,\n",
       "        1.330e+02, 3.769e+02, 1.761e+02, 1.471e+02, 0.000e+00, 0.000e+00],\n",
       "       [0.000e+00, 0.000e+00, 0.000e+00, 0.000e+00, 0.000e+00, 2.200e+01,\n",
       "        2.393e+02, 3.239e+02, 1.939e+02, 1.428e+02, 0.000e+00, 0.000e+00],\n",
       "       [0.000e+00, 0.000e+00, 0.000e+00, 0.000e+00, 0.000e+00, 2.300e+01,\n",
       "        1.920e+02, 2.211e+02, 2.883e+02, 7.320e+01, 4.860e+01, 0.000e+00],\n",
       "       [5.650e+01, 0.000e+00, 0.000e+00, 0.000e+00, 0.000e+00, 5.420e+01,\n",
       "        2.570e+01, 2.211e+02, 2.883e+02, 1.640e+02, 0.000e+00, 0.000e+00],\n",
       "       [0.000e+00, 0.000e+00, 0.000e+00, 0.000e+00, 0.000e+00, 0.000e+00,\n",
       "        1.913e+02, 1.657e+02, 1.303e+02, 2.178e+02, 0.000e+00, 0.000e+00],\n",
       "       [0.000e+00, 0.000e+00, 0.000e+00, 0.000e+00, 0.000e+00, 5.250e+01,\n",
       "        1.065e+02, 3.149e+02, 1.104e+02,       nan,       nan,       nan],\n",
       "       [0.000e+00, 4.800e+00, 0.000e+00, 0.000e+00, 1.100e+00, 6.110e+01,\n",
       "        2.647e+02, 2.186e+02, 1.828e+02, 1.340e+02, 0.000e+00, 0.000e+00],\n",
       "       [0.000e+00, 1.500e+00, 0.000e+00, 0.000e+00, 0.000e+00, 8.470e+01,\n",
       "        2.940e+01, 3.660e+02, 2.094e+02, 8.260e+01, 0.000e+00, 0.000e+00],\n",
       "       [      nan, 1.540e+00,       nan,       nan,       nan, 3.100e+00,\n",
       "        3.460e+01, 2.165e+02, 1.340e+02, 5.400e+00,       nan,       nan],\n",
       "       [0.000e+00, 0.000e+00, 0.000e+00, 0.000e+00, 0.000e+00, 4.280e+01,\n",
       "        1.331e+02, 3.301e+02, 1.937e+02, 0.000e+00, 0.000e+00, 0.000e+00],\n",
       "       [0.000e+00, 0.000e+00, 0.000e+00, 0.000e+00, 0.000e+00, 5.700e+00,\n",
       "        1.175e+02, 2.760e+02, 2.079e+02, 7.000e+00, 0.000e+00, 0.000e+00],\n",
       "       [0.000e+00, 0.000e+00, 0.000e+00, 0.000e+00, 0.000e+00, 8.760e+01,\n",
       "        7.770e+01, 1.625e+02, 4.159e+02, 0.000e+00, 0.000e+00, 0.000e+00],\n",
       "       [0.000e+00, 0.000e+00, 0.000e+00, 0.000e+00, 3.000e+00, 1.900e+01,\n",
       "        9.970e+01, 2.538e+02, 1.860e+02, 7.000e+00, 0.000e+00, 0.000e+00],\n",
       "       [0.000e+00, 0.000e+00, 0.000e+00, 0.000e+00,       nan, 8.450e+01,\n",
       "        1.660e+02, 3.100e+02, 5.180e+02, 2.700e+01,       nan,       nan],\n",
       "       [0.000e+00, 0.000e+00, 0.000e+00, 0.000e+00, 0.000e+00, 4.650e+01,\n",
       "        3.530e+01, 3.920e+02, 1.482e+02, 3.200e+01, 0.000e+00, 0.000e+00],\n",
       "       [0.000e+00, 0.000e+00, 0.000e+00, 0.000e+00, 0.000e+00, 1.600e+01,\n",
       "        4.880e+01, 1.270e+02, 2.471e+02, 1.930e+01, 0.000e+00, 0.000e+00],\n",
       "       [0.000e+00, 0.000e+00, 0.000e+00, 0.000e+00, 0.000e+00, 0.000e+00,\n",
       "        4.530e+01, 1.974e+02, 2.307e+02, 1.004e+02, 0.000e+00, 0.000e+00],\n",
       "       [0.000e+00, 0.000e+00, 0.000e+00, 0.000e+00, 0.000e+00, 5.200e+00,\n",
       "        1.657e+02, 2.138e+02, 1.341e+02, 3.500e+01, 0.000e+00, 0.000e+00],\n",
       "       [0.000e+00, 0.000e+00, 0.000e+00, 0.000e+00, 0.000e+00, 1.950e+01,\n",
       "        2.360e+02, 2.632e+02, 7.780e+01, 0.000e+00, 0.000e+00, 0.000e+00]])"
      ]
     },
     "execution_count": 9,
     "metadata": {},
     "output_type": "execute_result"
    }
   ],
   "source": [
    "L=Feuille[Feuille.columns[2:]].values\n",
    "L"
   ]
  },
  {
   "cell_type": "code",
   "execution_count": 10,
   "id": "fe25bcef",
   "metadata": {},
   "outputs": [
    {
     "name": "stdout",
     "output_type": "stream",
     "text": [
      "20\n",
      "50\n"
     ]
    }
   ],
   "source": [
    "Feuille.Annees\n",
    "indice_70=np.where(Feuille.Annees.values==1970)\n",
    "print(indice_70[0][0])\n",
    "indice_2000=np.where(Feuille.Annees.values==2000)\n",
    "print(indice_2000[0][0])\n"
   ]
  },
  {
   "cell_type": "code",
   "execution_count": 11,
   "id": "73e95fea",
   "metadata": {
    "scrolled": true
   },
   "outputs": [
    {
     "data": {
      "text/plain": [
       "array([[  0. ,   0. ,   0. ,   0. ,   5.2,  67.1, 143.2, 504.8, 308.9,\n",
       "        157.2,   7.2,   0. ],\n",
       "       [  0. ,   0. ,   0. ,   0. ,  16.8,  12.6, 131.2, 310.4, 198.5,\n",
       "        199.9,   8.4,   0. ],\n",
       "       [  0. ,   0. ,   0. ,   1.3,   7.1,  47. , 244.9, 297.5, 242.7,\n",
       "         79. ,   0. ,   0. ],\n",
       "       [  0. ,   0. ,   0. ,   0. ,   0. ,   5.2, 267.5, 311.5, 398. ,\n",
       "         71.1,   0. ,   0. ],\n",
       "       [  0. ,   0. ,   0. ,   0. ,   0. ,  85. , 205.5, 482.8,  97.7,\n",
       "         47.2,   8.2,   0. ],\n",
       "       [  0. ,   0. ,   0. ,   0. ,   2.5,  40. , 393.8, 395.7, 374.2,\n",
       "          1.5,   0. ,   0. ],\n",
       "       [  0. ,   0. ,   0. ,   0. ,   0. ,  85.2, 167.3, 220.8, 207.5,\n",
       "         84. ,   0. ,   8.5],\n",
       "       [  0. ,   0. ,   0. ,   0. ,   0. ,  47. , 124.3, 220.7, 306. ,\n",
       "        124.8,   0. ,   2.5],\n",
       "       [  0. ,   0. ,   0. ,   0. ,   0. ,  77. , 157.7, 475.2, 242. ,\n",
       "         59.8,   0. ,   0. ],\n",
       "       [  0. ,   0. ,   0. ,   0. ,   6.3,  15.3,  58.1, 242.4, 215.5,\n",
       "         18.5,   0. ,   0. ],\n",
       "       [  0. ,   0. ,   0. ,   0. ,   0. ,  55.7, 208.3, 237. , 152.1,\n",
       "          7.7,   0. ,   0. ],\n",
       "       [  0. ,   0. ,   0. ,   0. ,   0. ,  45.5, 189.7, 172.9, 146.9,\n",
       "         15.7,   0. ,   0. ],\n",
       "       [  0. ,   0.8,   0. ,   0. ,   0. ,  69.7,  42.1, 521.1,  82.9,\n",
       "         78.2,  42. ,   0. ],\n",
       "       [  0. ,   0. ,   0. ,   0. ,   0. ,   6.1, 121.6, 240.5, 239.1,\n",
       "        124.1,   0. ,   0. ],\n",
       "       [  3.4,   0. ,   0. ,   0. ,   0. ,  38.9, 137.5, 394.8, 250.1,\n",
       "         45.4,   0. ,   0. ],\n",
       "       [  0. ,   0. ,   0. ,   0. ,   0. ,  52.6, 171.3, 296.5, 133.8,\n",
       "         46.3,   0. ,   0. ],\n",
       "       [  0. ,   0. ,   0. ,   0. ,   0. ,  86.1,  63.7, 350.2, 349.6,\n",
       "        155.1,   0. ,   0. ],\n",
       "       [  0. ,   0. ,   0. ,   0. ,   0. ,  38.8, 244.2, 327. , 409. ,\n",
       "        105.8,   0. ,   0. ],\n",
       "       [  0. ,  15.6,   0. ,   0. ,   0. ,  34.2, 138.5,  75.6, 153.7,\n",
       "         45.9,   0. ,   0. ],\n",
       "       [  0. ,   0. ,   0. ,   0. ,   0. ,   0. , 153.9, 297.6, 164.7,\n",
       "         75.5,   0. ,   0. ]])"
      ]
     },
     "execution_count": 11,
     "metadata": {},
     "output_type": "execute_result"
    }
   ],
   "source": [
    "#Extraction\n",
    "P1=L[:20]\n",
    "P1\n"
   ]
  },
  {
   "cell_type": "code",
   "execution_count": 12,
   "id": "2e708066",
   "metadata": {
    "scrolled": true
   },
   "outputs": [
    {
     "data": {
      "text/plain": [
       "array([1.70000e-01, 8.20000e-01, 0.00000e+00, 6.50000e-02, 1.89500e+00,\n",
       "       4.54500e+01, 1.68215e+02, 3.18750e+02, 2.33645e+02, 7.71350e+01,\n",
       "       3.29000e+00, 5.50000e-01])"
      ]
     },
     "execution_count": 12,
     "metadata": {},
     "output_type": "execute_result"
    }
   ],
   "source": [
    "#Calcul de la moyenne [50-69]\n",
    "\n",
    "M1=np.nanmean(P1, axis=0)\n",
    "M1\n"
   ]
  },
  {
   "cell_type": "code",
   "execution_count": 13,
   "id": "3d2139d0",
   "metadata": {},
   "outputs": [
    {
     "data": {
      "text/plain": [
       "array([[0.000e+00, 0.000e+00, 0.000e+00, 0.000e+00, 0.000e+00, 1.930e+01,\n",
       "        9.400e+01, 3.532e+02, 9.210e+01, 1.000e+01, 0.000e+00, 0.000e+00],\n",
       "       [0.000e+00, 0.000e+00, 0.000e+00, 0.000e+00, 0.000e+00, 4.390e+01,\n",
       "        2.623e+02, 3.049e+02, 3.321e+02, 5.900e+00, 0.000e+00, 0.000e+00],\n",
       "       [2.000e+00, 0.000e+00, 0.000e+00, 0.000e+00, 0.000e+00, 5.700e+01,\n",
       "        2.120e+01, 1.938e+02, 1.274e+02, 1.410e+01, 0.000e+00, 0.000e+00],\n",
       "       [0.000e+00, 0.000e+00, 0.000e+00, 0.000e+00, 0.000e+00, 7.420e+01,\n",
       "        1.398e+02, 1.933e+02, 9.590e+01, 4.300e+01, 0.000e+00, 0.000e+00],\n",
       "       [0.000e+00, 0.000e+00, 0.000e+00, 0.000e+00, 3.000e-01, 2.200e+00,\n",
       "        8.050e+01, 3.338e+02, 2.077e+02, 1.020e+01, 0.000e+00, 0.000e+00],\n",
       "       [0.000e+00, 0.000e+00, 0.000e+00, 0.000e+00, 5.000e-01, 0.000e+00,\n",
       "        2.031e+02, 1.939e+02, 1.433e+02, 6.460e+01, 0.000e+00, 0.000e+00],\n",
       "       [0.000e+00, 0.000e+00, 0.000e+00, 4.000e-01, 6.400e+00, 1.950e+01,\n",
       "        1.073e+02, 1.328e+02, 2.078e+02, 5.180e+01, 1.000e+00, 1.500e+00],\n",
       "       [0.000e+00, 0.000e+00, 0.000e+00, 0.000e+00, 0.000e+00, 1.600e+01,\n",
       "        4.950e+01, 1.731e+02, 1.890e+02, 0.000e+00, 0.000e+00, 0.000e+00],\n",
       "       [0.000e+00, 0.000e+00, 0.000e+00, 0.000e+00, 0.000e+00, 2.350e+01,\n",
       "        1.327e+02, 2.825e+02, 7.850e+01, 3.500e+01, 3.650e+01, 2.000e+00],\n",
       "       [1.000e+01, 0.000e+00, 0.000e+00, 0.000e+00, 3.000e+00, 1.605e+02,\n",
       "        1.331e+02, 1.695e+02, 6.350e+01, 3.300e+01, 0.000e+00, 4.500e+00],\n",
       "       [0.000e+00, 0.000e+00, 0.000e+00, 0.000e+00, 0.000e+00, 6.300e+00,\n",
       "        3.180e+01, 1.457e+02, 2.794e+02, 1.560e+01, 0.000e+00, 0.000e+00],\n",
       "       [0.000e+00, 0.000e+00, 0.000e+00, 0.000e+00, 0.000e+00, 3.500e+01,\n",
       "        1.586e+02, 2.227e+02, 4.750e+01, 1.170e+01, 0.000e+00, 0.000e+00],\n",
       "       [0.000e+00, 0.000e+00, 0.000e+00, 0.000e+00, 0.000e+00, 2.700e+01,\n",
       "        1.558e+02, 2.697e+02, 9.400e+01, 2.890e+01, 0.000e+00, 0.000e+00],\n",
       "       [0.000e+00, 0.000e+00, 0.000e+00, 0.000e+00, 0.000e+00, 4.940e+01,\n",
       "        3.750e+01, 9.910e+01, 7.050e+01, 8.700e+00, 0.000e+00, 0.000e+00],\n",
       "       [0.000e+00, 0.000e+00, 0.000e+00, 0.000e+00, 0.000e+00, 1.670e+02,\n",
       "        9.240e+01, 1.295e+02, 2.430e+02, 1.150e+01, 0.000e+00, 0.000e+00],\n",
       "       [0.000e+00, 0.000e+00, 0.000e+00, 0.000e+00, 0.000e+00, 6.750e+01,\n",
       "        1.651e+02, 1.369e+02, 1.338e+02, 5.250e+01, 0.000e+00, 6.600e+00],\n",
       "       [0.000e+00, 0.000e+00, 0.000e+00, 0.000e+00, 0.000e+00, 7.000e+00,\n",
       "        5.470e+01, 9.660e+01, 3.305e+02, 5.050e+01, 0.000e+00, 0.000e+00],\n",
       "       [0.000e+00, 0.000e+00, 0.000e+00, 0.000e+00, 0.000e+00, 1.800e+00,\n",
       "        1.006e+02, 2.116e+02, 2.045e+02, 8.930e+01, 0.000e+00, 0.000e+00],\n",
       "       [0.000e+00, 0.000e+00, 0.000e+00, 0.000e+00, 1.500e+00, 2.520e+01,\n",
       "        2.020e+01, 2.917e+02, 2.825e+02, 1.450e+01, 0.000e+00, 0.000e+00],\n",
       "       [0.000e+00, 0.000e+00, 0.000e+00, 0.000e+00, 0.000e+00, 1.560e+02,\n",
       "        1.951e+02, 2.976e+02, 1.799e+02, 6.950e+01, 0.000e+00, 0.000e+00],\n",
       "       [0.000e+00, 0.000e+00, 0.000e+00, 0.000e+00, 0.000e+00, 2.300e+01,\n",
       "        7.190e+01, 1.858e+02, 1.627e+02, 3.370e+01, 0.000e+00, 0.000e+00],\n",
       "       [0.000e+00, 0.000e+00, 0.000e+00, 0.000e+00, 0.000e+00, 0.000e+00,\n",
       "        1.803e+02, 1.225e+02, 2.064e+02, 2.870e+01, 0.000e+00, 0.000e+00],\n",
       "       [0.000e+00, 0.000e+00, 0.000e+00, 0.000e+00, 1.020e+01, 2.390e+01,\n",
       "        1.599e+02, 1.138e+02, 1.426e+02, 3.300e+01, 0.000e+00, 0.000e+00],\n",
       "       [0.000e+00, 0.000e+00, 0.000e+00, 0.000e+00, 0.000e+00, 0.000e+00,\n",
       "        1.645e+02, 2.522e+02, 1.701e+02, 1.670e+01, 5.000e-01, 0.000e+00],\n",
       "       [0.000e+00, 0.000e+00, 0.000e+00, 0.000e+00, 0.000e+00, 3.100e+01,\n",
       "        1.088e+02, 2.899e+02, 1.701e+02, 2.180e+01, 0.000e+00, 2.000e-01],\n",
       "       [0.000e+00, 0.000e+00, 0.000e+00, 0.000e+00, 0.000e+00, 8.210e+01,\n",
       "        1.603e+02, 3.787e+02, 1.698e+02, 2.850e+01, 0.000e+00, 1.650e+01],\n",
       "       [0.000e+00, 0.000e+00, 0.000e+00, 0.000e+00, 0.000e+00, 1.010e+01,\n",
       "        1.675e+02, 1.611e+02, 1.759e+02, 1.520e+02, 0.000e+00, 0.000e+00],\n",
       "       [0.000e+00, 0.000e+00, 0.000e+00, 0.000e+00, 5.000e-01, 1.211e+02,\n",
       "        4.190e+01, 2.045e+02, 2.019e+02, 2.000e+00, 0.000e+00, 0.000e+00],\n",
       "       [0.000e+00, 0.000e+00, 0.000e+00, 0.000e+00, 0.000e+00, 0.000e+00,\n",
       "        3.690e+01, 1.858e+02, 1.827e+02, 2.400e+01, 0.000e+00, 0.000e+00],\n",
       "       [0.000e+00, 0.000e+00, 0.000e+00, 0.000e+00, 0.000e+00, 6.770e+01,\n",
       "        1.330e+02, 3.769e+02, 1.761e+02, 1.471e+02, 0.000e+00, 0.000e+00]])"
      ]
     },
     "execution_count": 13,
     "metadata": {},
     "output_type": "execute_result"
    }
   ],
   "source": [
    "#Extraction 70-99\n",
    "P2=L[20:50]\n",
    "P2"
   ]
  },
  {
   "cell_type": "code",
   "execution_count": 14,
   "id": "57cb362c",
   "metadata": {},
   "outputs": [
    {
     "data": {
      "text/plain": [
       "array([4.00000000e-01, 0.00000000e+00, 0.00000000e+00, 1.33333333e-02,\n",
       "       7.46666667e-01, 4.39066667e+01, 1.15343333e+02, 2.16770000e+02,\n",
       "       1.72040000e+02, 3.69266667e+01, 1.26666667e+00, 1.04333333e+00])"
      ]
     },
     "execution_count": 14,
     "metadata": {},
     "output_type": "execute_result"
    }
   ],
   "source": [
    "#Calcul de la moyenne [70-99]\n",
    "\n",
    "\n",
    "M2=np.nanmean(P2, axis=0)\n",
    "M2"
   ]
  },
  {
   "cell_type": "code",
   "execution_count": 15,
   "id": "e6492f05",
   "metadata": {},
   "outputs": [
    {
     "data": {
      "text/plain": [
       "array([[  0.  ,   0.  ,   0.  ,   0.  ,   0.  ,  22.  , 239.3 , 323.9 ,\n",
       "        193.9 , 142.8 ,   0.  ,   0.  ],\n",
       "       [  0.  ,   0.  ,   0.  ,   0.  ,   0.  ,  23.  , 192.  , 221.1 ,\n",
       "        288.3 ,  73.2 ,  48.6 ,   0.  ],\n",
       "       [ 56.5 ,   0.  ,   0.  ,   0.  ,   0.  ,  54.2 ,  25.7 , 221.1 ,\n",
       "        288.3 , 164.  ,   0.  ,   0.  ],\n",
       "       [  0.  ,   0.  ,   0.  ,   0.  ,   0.  ,   0.  , 191.3 , 165.7 ,\n",
       "        130.3 , 217.8 ,   0.  ,   0.  ],\n",
       "       [  0.  ,   0.  ,   0.  ,   0.  ,   0.  ,  52.5 , 106.5 , 314.9 ,\n",
       "        110.4 ,    nan,    nan,    nan],\n",
       "       [  0.  ,   4.8 ,   0.  ,   0.  ,   1.1 ,  61.1 , 264.7 , 218.6 ,\n",
       "        182.8 , 134.  ,   0.  ,   0.  ],\n",
       "       [  0.  ,   1.5 ,   0.  ,   0.  ,   0.  ,  84.7 ,  29.4 , 366.  ,\n",
       "        209.4 ,  82.6 ,   0.  ,   0.  ],\n",
       "       [   nan,   1.54,    nan,    nan,    nan,   3.1 ,  34.6 , 216.5 ,\n",
       "        134.  ,   5.4 ,    nan,    nan],\n",
       "       [  0.  ,   0.  ,   0.  ,   0.  ,   0.  ,  42.8 , 133.1 , 330.1 ,\n",
       "        193.7 ,   0.  ,   0.  ,   0.  ],\n",
       "       [  0.  ,   0.  ,   0.  ,   0.  ,   0.  ,   5.7 , 117.5 , 276.  ,\n",
       "        207.9 ,   7.  ,   0.  ,   0.  ],\n",
       "       [  0.  ,   0.  ,   0.  ,   0.  ,   0.  ,  87.6 ,  77.7 , 162.5 ,\n",
       "        415.9 ,   0.  ,   0.  ,   0.  ],\n",
       "       [  0.  ,   0.  ,   0.  ,   0.  ,   3.  ,  19.  ,  99.7 , 253.8 ,\n",
       "        186.  ,   7.  ,   0.  ,   0.  ],\n",
       "       [  0.  ,   0.  ,   0.  ,   0.  ,    nan,  84.5 , 166.  , 310.  ,\n",
       "        518.  ,  27.  ,    nan,    nan],\n",
       "       [  0.  ,   0.  ,   0.  ,   0.  ,   0.  ,  46.5 ,  35.3 , 392.  ,\n",
       "        148.2 ,  32.  ,   0.  ,   0.  ],\n",
       "       [  0.  ,   0.  ,   0.  ,   0.  ,   0.  ,  16.  ,  48.8 , 127.  ,\n",
       "        247.1 ,  19.3 ,   0.  ,   0.  ],\n",
       "       [  0.  ,   0.  ,   0.  ,   0.  ,   0.  ,   0.  ,  45.3 , 197.4 ,\n",
       "        230.7 , 100.4 ,   0.  ,   0.  ],\n",
       "       [  0.  ,   0.  ,   0.  ,   0.  ,   0.  ,   5.2 , 165.7 , 213.8 ,\n",
       "        134.1 ,  35.  ,   0.  ,   0.  ],\n",
       "       [  0.  ,   0.  ,   0.  ,   0.  ,   0.  ,  19.5 , 236.  , 263.2 ,\n",
       "         77.8 ,   0.  ,   0.  ,   0.  ]])"
      ]
     },
     "execution_count": 15,
     "metadata": {},
     "output_type": "execute_result"
    }
   ],
   "source": [
    "#Extraction 00-17\n",
    "P3=L[50:]\n",
    "P3"
   ]
  },
  {
   "cell_type": "code",
   "execution_count": 16,
   "id": "5e0ffff4",
   "metadata": {},
   "outputs": [
    {
     "data": {
      "text/plain": [
       "array([  3.32352941,   0.43555556,   0.        ,   0.        ,\n",
       "         0.25625   ,  34.85555556, 122.7       , 254.08888889,\n",
       "       216.48888889,  61.61764706,   3.24      ,   0.        ])"
      ]
     },
     "execution_count": 16,
     "metadata": {},
     "output_type": "execute_result"
    }
   ],
   "source": [
    "#Calcul de la moyenne [70-99]\n",
    "\n",
    "M3=np.nanmean(P3, axis=0)\n",
    "\n",
    "M3"
   ]
  },
  {
   "cell_type": "markdown",
   "id": "f6d05995",
   "metadata": {},
   "source": [
    "# Question 7:"
   ]
  },
  {
   "cell_type": "code",
   "execution_count": 17,
   "id": "50cc1cec",
   "metadata": {},
   "outputs": [
    {
     "data": {
      "image/png": "[encoded data removed]",
      "text/plain": [
       "<Figure size 864x720 with 1 Axes>"
      ]
     },
     "metadata": {
      "needs_background": "light"
     },
     "output_type": "display_data"
    }
   ],
   "source": [
    "# tracé de la moyenne(50-69)\n",
    "\n",
    "fig3, axe3= plt.subplots(figsize=(12,10))\n",
    "x2=F\n",
    "y2=M1\n",
    "\n",
    "plt.plot(x2,y2)\n",
    "plt.title(\"Moyenne_PLuviometrie 50_69\")\n",
    "plt.grid()\n",
    "plt.show()\n",
    "\n",
    "\n"
   ]
  },
  {
   "cell_type": "markdown",
   "id": "2bab9174",
   "metadata": {},
   "source": [
    "# Question 8:"
   ]
  },
  {
   "cell_type": "code",
   "execution_count": 18,
   "id": "4cf8d328",
   "metadata": {},
   "outputs": [
    {
     "data": {
      "image/png": "[encoded data removed]",
      "text/plain": [
       "<Figure size 864x720 with 1 Axes>"
      ]
     },
     "metadata": {
      "needs_background": "light"
     },
     "output_type": "display_data"
    }
   ],
   "source": [
    "#Graphique de la moyenne de la pluviometrie 1970-1999 \n",
    "\n",
    "fig4, axe4= plt.subplots(figsize=(12,10))\n",
    "x3=F\n",
    "y3=M2\n",
    "\n",
    "plt.plot(x3,y3)\n",
    "plt.title(\"Moyenne_PLuviometrie 1970 _1999\")\n",
    "plt.grid()\n",
    "plt.show()\n",
    "\n"
   ]
  },
  {
   "cell_type": "markdown",
   "id": "e8c8553c",
   "metadata": {},
   "source": [
    "# QUESTION 9:"
   ]
  },
  {
   "cell_type": "code",
   "execution_count": 19,
   "id": "d54a9f02",
   "metadata": {},
   "outputs": [
    {
     "data": {
      "image/png": "[encoded data removed]",
      "text/plain": [
       "<Figure size 864x720 with 1 Axes>"
      ]
     },
     "metadata": {
      "needs_background": "light"
     },
     "output_type": "display_data"
    }
   ],
   "source": [
    "#Graphique de la moyenne de la pluviometrie 2000-2017 \n",
    "\n",
    "fig4, axe4= plt.subplots(figsize=(12,10))\n",
    "x4=F\n",
    "y4=M3\n",
    "\n",
    "plt.plot(x4,y4)\n",
    "plt.title(\"Moyenne_PLuviometrie 2000 _2017\")\n",
    "plt.grid()\n",
    "plt.show()"
   ]
  },
  {
   "cell_type": "code",
   "execution_count": 20,
   "id": "36e42b13",
   "metadata": {},
   "outputs": [
    {
     "data": {
      "image/png": "[encoded data removed]",
      "text/plain": [
       "<Figure size 936x648 with 1 Axes>"
      ]
     },
     "metadata": {
      "needs_background": "light"
     },
     "output_type": "display_data"
    }
   ],
   "source": [
    "#Superposition des courbes:\n",
    "\n",
    "f4,ax4=plt.subplots(figsize=(13,9))\n",
    "plt.plot(x2,y2,label=\"Periode_1950-1969\")\n",
    "plt.plot(x3,y3,label=\"Periode_1970-1999\")\n",
    "plt.plot(x4,y4,label=\"Periode_2000-2017\")\n",
    "plt.grid()\n",
    "plt.legend()\n",
    "plt.title(\"Superposition des courbes \")\n",
    "plt.show()"
   ]
  },
  {
   "cell_type": "markdown",
   "id": "e00bb7ee",
   "metadata": {},
   "source": [
    "# Question 10:"
   ]
  },
  {
   "cell_type": "code",
   "execution_count": 21,
   "id": "604d4be6",
   "metadata": {},
   "outputs": [
    {
     "name": "stdout",
     "output_type": "stream",
     "text": [
      "La somme pluviométrique annuelle est  [1193.6   877.8   919.5  1053.3   926.4  1207.7   773.3   825.3  1011.7\n",
      "  556.1   660.8   570.7   836.8   731.4   870.1   700.5  1004.7  1124.8\n",
      "  463.5   691.7   568.6   949.1   415.5   546.2   634.7   605.4   528.5\n",
      "  427.6   590.7   577.1   478.8   475.5   575.4   265.2   643.4   562.4\n",
      "  539.3   607.8   635.6   898.1   477.1   537.9   483.4   604.    621.8\n",
      "  835.9   666.6   571.9   429.4   900.8   921.9   846.2   809.8   705.1\n",
      "  584.3   867.1   773.6   395.14  699.7   614.1   743.7   568.5  1105.5\n",
      "  654.    458.2   573.8   553.8   596.5 ]\n",
      "La moyenne du vecteur est  693.0050000000001\n"
     ]
    }
   ],
   "source": [
    "#Création et remplissage du vecteur\n",
    "\n",
    "SA=np.nansum(L,axis=1)\n",
    "print(\"La somme pluviométrique annuelle est \", SA)\n",
    "\n",
    "#Moyenne_vecteur\n",
    "MA=np.nanmean(SA)\n",
    "print(\"La moyenne du vecteur est \",MA)\n",
    "\n"
   ]
  },
  {
   "cell_type": "markdown",
   "id": "9b4ca75d",
   "metadata": {},
   "source": [
    "# Question 11:"
   ]
  },
  {
   "cell_type": "code",
   "execution_count": 22,
   "id": "24b16347",
   "metadata": {},
   "outputs": [
    {
     "data": {
      "text/html": [
       "<div>\n",
       "<style scoped>\n",
       "    .dataframe tbody tr th:only-of-type {\n",
       "        vertical-align: middle;\n",
       "    }\n",
       "\n",
       "    .dataframe tbody tr th {\n",
       "        vertical-align: top;\n",
       "    }\n",
       "\n",
       "    .dataframe thead th {\n",
       "        text-align: right;\n",
       "    }\n",
       "</style>\n",
       "<table border=\"1\" class=\"dataframe\">\n",
       "  <thead>\n",
       "    <tr style=\"text-align: right;\">\n",
       "      <th></th>\n",
       "      <th>Stations</th>\n",
       "      <th>Annees</th>\n",
       "      <th>somme_annuelle</th>\n",
       "      <th>Janv</th>\n",
       "      <th>Fevr</th>\n",
       "      <th>Mars</th>\n",
       "      <th>Avr</th>\n",
       "      <th>Mai</th>\n",
       "      <th>Juin</th>\n",
       "      <th>Juil</th>\n",
       "      <th>Aout</th>\n",
       "      <th>Sept</th>\n",
       "      <th>Oct</th>\n",
       "      <th>Nov</th>\n",
       "      <th>Dec</th>\n",
       "    </tr>\n",
       "  </thead>\n",
       "  <tbody>\n",
       "    <tr>\n",
       "      <th>0</th>\n",
       "      <td>Foundiougne</td>\n",
       "      <td>1950</td>\n",
       "      <td>693.005</td>\n",
       "      <td>0.0</td>\n",
       "      <td>0.0</td>\n",
       "      <td>0.0</td>\n",
       "      <td>0.0</td>\n",
       "      <td>5.2</td>\n",
       "      <td>67.1</td>\n",
       "      <td>143.2</td>\n",
       "      <td>504.8</td>\n",
       "      <td>308.9</td>\n",
       "      <td>157.2</td>\n",
       "      <td>7.2</td>\n",
       "      <td>0.0</td>\n",
       "    </tr>\n",
       "    <tr>\n",
       "      <th>1</th>\n",
       "      <td>Foundiougne</td>\n",
       "      <td>1951</td>\n",
       "      <td>693.005</td>\n",
       "      <td>0.0</td>\n",
       "      <td>0.0</td>\n",
       "      <td>0.0</td>\n",
       "      <td>0.0</td>\n",
       "      <td>16.8</td>\n",
       "      <td>12.6</td>\n",
       "      <td>131.2</td>\n",
       "      <td>310.4</td>\n",
       "      <td>198.5</td>\n",
       "      <td>199.9</td>\n",
       "      <td>8.4</td>\n",
       "      <td>0.0</td>\n",
       "    </tr>\n",
       "    <tr>\n",
       "      <th>2</th>\n",
       "      <td>Foundiougne</td>\n",
       "      <td>1952</td>\n",
       "      <td>693.005</td>\n",
       "      <td>0.0</td>\n",
       "      <td>0.0</td>\n",
       "      <td>0.0</td>\n",
       "      <td>1.3</td>\n",
       "      <td>7.1</td>\n",
       "      <td>47.0</td>\n",
       "      <td>244.9</td>\n",
       "      <td>297.5</td>\n",
       "      <td>242.7</td>\n",
       "      <td>79.0</td>\n",
       "      <td>0.0</td>\n",
       "      <td>0.0</td>\n",
       "    </tr>\n",
       "    <tr>\n",
       "      <th>3</th>\n",
       "      <td>Foundiougne</td>\n",
       "      <td>1953</td>\n",
       "      <td>693.005</td>\n",
       "      <td>0.0</td>\n",
       "      <td>0.0</td>\n",
       "      <td>0.0</td>\n",
       "      <td>0.0</td>\n",
       "      <td>0.0</td>\n",
       "      <td>5.2</td>\n",
       "      <td>267.5</td>\n",
       "      <td>311.5</td>\n",
       "      <td>398.0</td>\n",
       "      <td>71.1</td>\n",
       "      <td>0.0</td>\n",
       "      <td>0.0</td>\n",
       "    </tr>\n",
       "    <tr>\n",
       "      <th>4</th>\n",
       "      <td>Foundiougne</td>\n",
       "      <td>1954</td>\n",
       "      <td>693.005</td>\n",
       "      <td>0.0</td>\n",
       "      <td>0.0</td>\n",
       "      <td>0.0</td>\n",
       "      <td>0.0</td>\n",
       "      <td>0.0</td>\n",
       "      <td>85.0</td>\n",
       "      <td>205.5</td>\n",
       "      <td>482.8</td>\n",
       "      <td>97.7</td>\n",
       "      <td>47.2</td>\n",
       "      <td>8.2</td>\n",
       "      <td>0.0</td>\n",
       "    </tr>\n",
       "    <tr>\n",
       "      <th>...</th>\n",
       "      <td>...</td>\n",
       "      <td>...</td>\n",
       "      <td>...</td>\n",
       "      <td>...</td>\n",
       "      <td>...</td>\n",
       "      <td>...</td>\n",
       "      <td>...</td>\n",
       "      <td>...</td>\n",
       "      <td>...</td>\n",
       "      <td>...</td>\n",
       "      <td>...</td>\n",
       "      <td>...</td>\n",
       "      <td>...</td>\n",
       "      <td>...</td>\n",
       "      <td>...</td>\n",
       "    </tr>\n",
       "    <tr>\n",
       "      <th>63</th>\n",
       "      <td>Foundiougne</td>\n",
       "      <td>2013</td>\n",
       "      <td>693.005</td>\n",
       "      <td>0.0</td>\n",
       "      <td>0.0</td>\n",
       "      <td>0.0</td>\n",
       "      <td>0.0</td>\n",
       "      <td>0.0</td>\n",
       "      <td>46.5</td>\n",
       "      <td>35.3</td>\n",
       "      <td>392.0</td>\n",
       "      <td>148.2</td>\n",
       "      <td>32.0</td>\n",
       "      <td>0.0</td>\n",
       "      <td>0.0</td>\n",
       "    </tr>\n",
       "    <tr>\n",
       "      <th>64</th>\n",
       "      <td>Foundiougne</td>\n",
       "      <td>2014</td>\n",
       "      <td>693.005</td>\n",
       "      <td>0.0</td>\n",
       "      <td>0.0</td>\n",
       "      <td>0.0</td>\n",
       "      <td>0.0</td>\n",
       "      <td>0.0</td>\n",
       "      <td>16.0</td>\n",
       "      <td>48.8</td>\n",
       "      <td>127.0</td>\n",
       "      <td>247.1</td>\n",
       "      <td>19.3</td>\n",
       "      <td>0.0</td>\n",
       "      <td>0.0</td>\n",
       "    </tr>\n",
       "    <tr>\n",
       "      <th>65</th>\n",
       "      <td>Foundiougne</td>\n",
       "      <td>2015</td>\n",
       "      <td>693.005</td>\n",
       "      <td>0.0</td>\n",
       "      <td>0.0</td>\n",
       "      <td>0.0</td>\n",
       "      <td>0.0</td>\n",
       "      <td>0.0</td>\n",
       "      <td>0.0</td>\n",
       "      <td>45.3</td>\n",
       "      <td>197.4</td>\n",
       "      <td>230.7</td>\n",
       "      <td>100.4</td>\n",
       "      <td>0.0</td>\n",
       "      <td>0.0</td>\n",
       "    </tr>\n",
       "    <tr>\n",
       "      <th>66</th>\n",
       "      <td>Foundiougne</td>\n",
       "      <td>2016</td>\n",
       "      <td>693.005</td>\n",
       "      <td>0.0</td>\n",
       "      <td>0.0</td>\n",
       "      <td>0.0</td>\n",
       "      <td>0.0</td>\n",
       "      <td>0.0</td>\n",
       "      <td>5.2</td>\n",
       "      <td>165.7</td>\n",
       "      <td>213.8</td>\n",
       "      <td>134.1</td>\n",
       "      <td>35.0</td>\n",
       "      <td>0.0</td>\n",
       "      <td>0.0</td>\n",
       "    </tr>\n",
       "    <tr>\n",
       "      <th>67</th>\n",
       "      <td>Foundiougne</td>\n",
       "      <td>2017</td>\n",
       "      <td>693.005</td>\n",
       "      <td>0.0</td>\n",
       "      <td>0.0</td>\n",
       "      <td>0.0</td>\n",
       "      <td>0.0</td>\n",
       "      <td>0.0</td>\n",
       "      <td>19.5</td>\n",
       "      <td>236.0</td>\n",
       "      <td>263.2</td>\n",
       "      <td>77.8</td>\n",
       "      <td>0.0</td>\n",
       "      <td>0.0</td>\n",
       "      <td>0.0</td>\n",
       "    </tr>\n",
       "  </tbody>\n",
       "</table>\n",
       "<p>68 rows × 15 columns</p>\n",
       "</div>"
      ],
      "text/plain": [
       "       Stations  Annees  somme_annuelle  Janv  Fevr  Mars  Avr   Mai  Juin  \\\n",
       "0   Foundiougne    1950         693.005   0.0   0.0   0.0  0.0   5.2  67.1   \n",
       "1   Foundiougne    1951         693.005   0.0   0.0   0.0  0.0  16.8  12.6   \n",
       "2   Foundiougne    1952         693.005   0.0   0.0   0.0  1.3   7.1  47.0   \n",
       "3   Foundiougne    1953         693.005   0.0   0.0   0.0  0.0   0.0   5.2   \n",
       "4   Foundiougne    1954         693.005   0.0   0.0   0.0  0.0   0.0  85.0   \n",
       "..          ...     ...             ...   ...   ...   ...  ...   ...   ...   \n",
       "63  Foundiougne    2013         693.005   0.0   0.0   0.0  0.0   0.0  46.5   \n",
       "64  Foundiougne    2014         693.005   0.0   0.0   0.0  0.0   0.0  16.0   \n",
       "65  Foundiougne    2015         693.005   0.0   0.0   0.0  0.0   0.0   0.0   \n",
       "66  Foundiougne    2016         693.005   0.0   0.0   0.0  0.0   0.0   5.2   \n",
       "67  Foundiougne    2017         693.005   0.0   0.0   0.0  0.0   0.0  19.5   \n",
       "\n",
       "     Juil   Aout   Sept    Oct  Nov  Dec  \n",
       "0   143.2  504.8  308.9  157.2  7.2  0.0  \n",
       "1   131.2  310.4  198.5  199.9  8.4  0.0  \n",
       "2   244.9  297.5  242.7   79.0  0.0  0.0  \n",
       "3   267.5  311.5  398.0   71.1  0.0  0.0  \n",
       "4   205.5  482.8   97.7   47.2  8.2  0.0  \n",
       "..    ...    ...    ...    ...  ...  ...  \n",
       "63   35.3  392.0  148.2   32.0  0.0  0.0  \n",
       "64   48.8  127.0  247.1   19.3  0.0  0.0  \n",
       "65   45.3  197.4  230.7  100.4  0.0  0.0  \n",
       "66  165.7  213.8  134.1   35.0  0.0  0.0  \n",
       "67  236.0  263.2   77.8    0.0  0.0  0.0  \n",
       "\n",
       "[68 rows x 15 columns]"
      ]
     },
     "execution_count": 22,
     "metadata": {},
     "output_type": "execute_result"
    }
   ],
   "source": [
    "# insertion\n",
    "Feuille.insert(2,\"somme_annuelle\",MA,allow_duplicates=False)\n",
    "Feuille"
   ]
  },
  {
   "cell_type": "code",
   "execution_count": 23,
   "id": "3b09a443",
   "metadata": {},
   "outputs": [
    {
     "data": {
      "text/plain": [
       "array([ 500.595,  184.795,  226.495,  360.295,  233.395,  514.695,\n",
       "         80.295,  132.295,  318.695, -136.905,  -32.205, -122.305,\n",
       "        143.795,   38.395,  177.095,    7.495,  311.695,  431.795,\n",
       "       -229.505,   -1.305, -124.405,  256.095, -277.505, -146.805,\n",
       "        -58.305,  -87.605, -164.505, -265.405, -102.305, -115.905,\n",
       "       -214.205, -217.505, -117.605, -427.805,  -49.605, -130.605,\n",
       "       -153.705,  -85.205,  -57.405,  205.095, -215.905, -155.105,\n",
       "       -209.605,  -89.005,  -71.205,  142.895,  -26.405, -121.105,\n",
       "       -263.605,  207.795,  228.895,  153.195,  116.795,   12.095,\n",
       "       -108.705,  174.095,   80.595, -297.865,    6.695,  -78.905,\n",
       "         50.695, -124.505,  412.495,  -39.005, -234.805, -119.205,\n",
       "       -139.205,  -96.505])"
      ]
     },
     "execution_count": 23,
     "metadata": {},
     "output_type": "execute_result"
    }
   ],
   "source": [
    "#\n",
    "diff=SA-MA\n",
    "diff"
   ]
  },
  {
   "cell_type": "markdown",
   "id": "57e211b3",
   "metadata": {},
   "source": [
    "# QUESTION 11:"
   ]
  },
  {
   "cell_type": "code",
   "execution_count": 24,
   "id": "b37e3b78",
   "metadata": {},
   "outputs": [
    {
     "data": {
      "image/png": "[encoded data removed]",
      "text/plain": [
       "<Figure size 864x720 with 1 Axes>"
      ]
     },
     "metadata": {
      "needs_background": "light"
     },
     "output_type": "display_data"
    },
    {
     "data": {
      "text/plain": [
       "[<matplotlib.lines.Line2D at 0x20274dfb130>]"
      ]
     },
     "execution_count": 24,
     "metadata": {},
     "output_type": "execute_result"
    },
    {
     "data": {
      "image/png": "[encoded data removed]",
      "text/plain": [
       "<Figure size 432x288 with 1 Axes>"
      ]
     },
     "metadata": {
      "needs_background": "light"
     },
     "output_type": "display_data"
    }
   ],
   "source": [
    "\n",
    "x1=Feuille.Annees\n",
    "y1=diff\n",
    "largeur=0.5\n",
    "fig6,axe6=plt.subplots(figsize=(12,10))\n",
    "plt.bar(x1, y1, largeur, label=\"PLuviométrie Annuelle Foundioune\")\n",
    "plt.legend()\n",
    "plt.grid()\n",
    "plt.show()\n",
    "plt.plot(x1,y1)"
   ]
  },
  {
   "cell_type": "markdown",
   "id": "9f083346",
   "metadata": {},
   "source": [
    "# QUESTION 12:"
   ]
  },
  {
   "cell_type": "code",
   "execution_count": 25,
   "id": "169234ad",
   "metadata": {},
   "outputs": [
    {
     "name": "stdout",
     "output_type": "stream",
     "text": [
      "[1193.6  877.8  919.5 1053.3  926.4 1207.7  773.3  825.3 1011.7  556.1\n",
      "  660.8  570.7  836.8  731.4  870.1  700.5 1004.7 1124.8  463.5  691.7]\n",
      "La moyenne du vecteur est  849.985\n",
      "La diff du vecteur et sa moyenne est  [ 500.595  184.795  226.495  360.295  233.395  514.695   80.295  132.295\n",
      "  318.695 -136.905  -32.205 -122.305  143.795   38.395  177.095    7.495\n",
      "  311.695  431.795 -229.505   -1.305]\n"
     ]
    }
   ],
   "source": [
    "#Entre 50-69\n",
    "v1=np.nansum(P1, axis=1)\n",
    "print(v1)\n",
    "##Moyenne_vecteur\n",
    "Mv1=np.nanmean(v1)\n",
    "print(\"La moyenne du vecteur est \",Mv1)\n",
    "\n",
    "Ecart1=v1-MA\n",
    "\n",
    "print(\"La diff du vecteur et sa moyenne est \",Ecart1)"
   ]
  },
  {
   "cell_type": "code",
   "execution_count": 26,
   "id": "4866d371",
   "metadata": {},
   "outputs": [
    {
     "data": {
      "image/png": "[encoded data removed]",
      "text/plain": [
       "<Figure size 864x720 with 1 Axes>"
      ]
     },
     "metadata": {
      "needs_background": "light"
     },
     "output_type": "display_data"
    }
   ],
   "source": [
    "#Tracé du diagramme en barre \n",
    "fig7, axe7= plt.subplots(figsize=(12,10))\n",
    "x2 =Feuille.Annees[:20]\n",
    "y2 = Ecart1\n",
    "largeur = 0.5\n",
    "plt.bar(x2, y2, largeur, label='PLuviométrie 1950-1969')\n",
    "plt.grid()\n",
    "plt.legend()\n",
    "plt.show()\n"
   ]
  },
  {
   "cell_type": "code",
   "execution_count": 27,
   "id": "55cdacf7",
   "metadata": {},
   "outputs": [
    {
     "name": "stdout",
     "output_type": "stream",
     "text": [
      "[568.6 949.1 415.5 546.2 634.7 605.4 528.5 427.6 590.7 577.1 478.8 475.5\n",
      " 575.4 265.2 643.4 562.4 539.3 607.8 635.6 898.1 477.1 537.9 483.4 604.\n",
      " 621.8 835.9 666.6 571.9 429.4 900.8]\n",
      "La moyenne du vecteur est  588.4566666666666\n",
      "La diff du vecteur et sa moyenne est  [-124.405  256.095 -277.505 -146.805  -58.305  -87.605 -164.505 -265.405\n",
      " -102.305 -115.905 -214.205 -217.505 -117.605 -427.805  -49.605 -130.605\n",
      " -153.705  -85.205  -57.405  205.095 -215.905 -155.105 -209.605  -89.005\n",
      "  -71.205  142.895  -26.405 -121.105 -263.605  207.795]\n"
     ]
    }
   ],
   "source": [
    "#Entre 70-99\n",
    "v2=np.nansum(P2, axis=1)\n",
    "print(v2)\n",
    "##Moyenne_vecteur\n",
    "Mv2=np.nanmean(v2)\n",
    "print(\"La moyenne du vecteur est \",Mv2)\n",
    "\n",
    "Ecart2=v2-MA\n",
    "\n",
    "print(\"La diff du vecteur et sa moyenne est \",Ecart2)"
   ]
  },
  {
   "cell_type": "code",
   "execution_count": 28,
   "id": "00ddb1ff",
   "metadata": {
    "scrolled": true
   },
   "outputs": [
    {
     "data": {
      "image/png": "[encoded data removed]",
      "text/plain": [
       "<Figure size 936x648 with 1 Axes>"
      ]
     },
     "metadata": {
      "needs_background": "light"
     },
     "output_type": "display_data"
    }
   ],
   "source": [
    "#Tracé du diagramme en barre 1970-1999\n",
    "fig8, axe8= plt.subplots(figsize=(13,9))\n",
    "x3 =Feuille.Annees[20:50]\n",
    "y3 = Ecart2\n",
    "largeur = 0.5\n",
    "plt.bar(x3, y3, largeur, label='PLuviométrie 1970-1999')\n",
    "plt.grid()\n",
    "plt.legend()\n",
    "plt.show()\n"
   ]
  },
  {
   "cell_type": "code",
   "execution_count": 29,
   "id": "36480038",
   "metadata": {},
   "outputs": [
    {
     "name": "stdout",
     "output_type": "stream",
     "text": [
      "[ 921.9   846.2   809.8   705.1   584.3   867.1   773.6   395.14  699.7\n",
      "  614.1   743.7   568.5  1105.5   654.    458.2   573.8   553.8   596.5 ]\n",
      "La moyenne du vecteur est  692.8299999999999\n",
      "La diff du vecteur et sa moyenne est  [ 228.895  153.195  116.795   12.095 -108.705  174.095   80.595 -297.865\n",
      "    6.695  -78.905   50.695 -124.505  412.495  -39.005 -234.805 -119.205\n",
      " -139.205  -96.505]\n"
     ]
    }
   ],
   "source": [
    "#Entre 00-17\n",
    "v3=np.nansum(P3, axis=1)\n",
    "print(v3)\n",
    "##Moyenne_vecteur\n",
    "Mv3=np.nanmean(v3)\n",
    "print(\"La moyenne du vecteur est \",Mv3)\n",
    "\n",
    "Ecart3=v3-MA\n",
    "\n",
    "print(\"La diff du vecteur et sa moyenne est \",Ecart3)"
   ]
  },
  {
   "cell_type": "code",
   "execution_count": 30,
   "id": "5b2eb647",
   "metadata": {},
   "outputs": [
    {
     "data": {
      "image/png": "[encoded data removed]",
      "text/plain": [
       "<Figure size 864x720 with 1 Axes>"
      ]
     },
     "metadata": {
      "needs_background": "light"
     },
     "output_type": "display_data"
    }
   ],
   "source": [
    "#Tracé du diagramme en barre\n",
    "\n",
    "fig9 , axe9= plt.subplots(figsize=(12,10))\n",
    "x4 =Feuille.Annees[50:68]\n",
    "y4= Ecart3\n",
    "largeur = 0.5\n",
    "plt.bar(x4, y4, largeur, label='PLuviométrie 2000-2017')\n",
    "plt.grid()\n",
    "plt.legend()\n",
    "plt.show()"
   ]
  },
  {
   "cell_type": "markdown",
   "id": "b24b6979",
   "metadata": {},
   "source": [
    "# Enregistrement des courbes sur Excel:"
   ]
  },
  {
   "cell_type": "code",
   "execution_count": null,
   "id": "1ab02228",
   "metadata": {},
   "outputs": [],
   "source": [
    "#Courbe _Moyenne_pluviométrie 1950-2017\n",
    "import xlwings as pluie\n",
    "pluie_Foundioune=pluie.Book(\"pluvio_senegal.xlsx\")\n",
    "pluie_Foundioune.sheets.add(\"pluvio_Moyenne(1950-1969)\")\n",
    "feuille=pluie_Foundioune.sheets[\"pluvio_Moyenne(1950-1969)\"]\n",
    "ax4=ax4.get_figure()\n",
    "feuille.pictures.add(ax4,name=\"Pluviométrie  1950-1969 Foundioune\", update=True)\n",
    "\n",
    "#Courbe Ecart Type 1950-2017\n",
    "pluie_Foundioune.sheets.add(\"Ecart_type(1950-2017)_Foundioune\")\n",
    "feuille=pluie_Foundioune.sheets[\"Ecart_type(1950-2017)_Foundioune\"]\n",
    "a5=a5.get_figure()\n",
    "feuille.pictures.add(a5,name=\"Ecart type 1950-2017 Foundioune\", update=True)\n",
    "plt.show()\n",
    "\n"
   ]
  },
  {
   "cell_type": "code",
   "execution_count": null,
   "id": "a999e542",
   "metadata": {},
   "outputs": [],
   "source": []
  },
  {
   "cell_type": "code",
   "execution_count": null,
   "id": "e1ff7dbf",
   "metadata": {},
   "outputs": [],
   "source": []
  }
 ],
 "metadata": {
  "kernelspec": {
   "display_name": "Python 3 (ipykernel)",
   "language": "python",
   "name": "python3"
  },
  "language_info": {
   "codemirror_mode": {
    "name": "ipython",
    "version": 3
   },
   "file_extension": ".py",
   "mimetype": "text/x-python",
   "name": "python",
   "nbconvert_exporter": "python",
   "pygments_lexer": "ipython3",
   "version": "3.9.7"
  }
 },
 "nbformat": 4,
 "nbformat_minor": 5
}
